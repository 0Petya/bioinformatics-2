{
 "cells": [
  {
   "cell_type": "markdown",
   "metadata": {},
   "source": [
    "If you have data from paired-end sequencing, you can will have two separate files from both pairs. You can combine them in an interleaved format.\n",
    "\n",
    "PacBio has developed a method to reduce their error rate significantly by circularizing the molecule and reading it many times over. They call this circular concensus sequencing.\n",
    "\n",
    "Before assembling a genome, we need to do some pre processing.\n",
    "First trim reads with low quality calls (towards the end of the reads, it gets worse).\n",
    "Remove very short reads.\n",
    "Correct errors:\n",
    "* Find all distinct k-mers\n",
    "* Plot coverage distribution\n",
    "* Correct low coverage k-mers"
   ]
  }
 ],
 "metadata": {
  "file_extension": ".py",
  "kernelspec": {
   "display_name": "Python 3.8.1 64-bit ('bioinformatics-2': venv)",
   "language": "python",
   "name": "python38164bitbioinformatics2venv46940ef7d80f49e69b1677e44c971183"
  },
  "language_info": {
   "codemirror_mode": {
    "name": "ipython",
    "version": 3
   },
   "file_extension": ".py",
   "mimetype": "text/x-python",
   "name": "python",
   "nbconvert_exporter": "python",
   "pygments_lexer": "ipython3",
   "version": "3.8.1"
  },
  "mimetype": "text/x-python",
  "name": "python",
  "npconvert_exporter": "python",
  "pygments_lexer": "ipython3",
  "version": 3
 },
 "nbformat": 4,
 "nbformat_minor": 4
}
